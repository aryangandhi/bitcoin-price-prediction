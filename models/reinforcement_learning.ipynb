{
 "cells": [
  {
   "cell_type": "markdown",
   "id": "d261e45c-f2db-4b69-891e-72fbb6f20a5f",
   "metadata": {},
   "source": [
    "# Install & Import Dependencies"
   ]
  },
  {
   "cell_type": "code",
   "execution_count": 2,
   "id": "a36cc761-ab8d-44c4-83c8-9442b5d0d802",
   "metadata": {},
   "outputs": [
    {
     "name": "stderr",
     "output_type": "stream",
     "text": [
      "ERROR: Could not find a version that satisfies the requirement tensorflow-gpu==1.15.0 (from versions: 2.8.0rc1, 2.8.0, 2.8.1, 2.8.2, 2.8.3, 2.8.4, 2.9.0rc0, 2.9.0rc1, 2.9.0rc2, 2.9.0, 2.9.1, 2.9.2, 2.9.3, 2.10.0rc0, 2.10.0rc1, 2.10.0rc2, 2.10.0rc3, 2.10.0, 2.10.1, 2.12.0)\n",
      "ERROR: No matching distribution found for tensorflow-gpu==1.15.0\n",
      "\n",
      "[notice] A new release of pip is available: 23.0.1 -> 24.0\n",
      "[notice] To update, run: C:\\Users\\Aryan\\AppData\\Local\\Microsoft\\WindowsApps\\PythonSoftwareFoundation.Python.3.10_qbz5n2kfra8p0\\python.exe -m pip install --upgrade pip\n"
     ]
    }
   ],
   "source": [
    "# !pip install tensorflow-gpu==1.15.0 tensorflow==1.15.0 stable-baslines gym-anytrading gym"
   ]
  },
  {
   "cell_type": "markdown",
   "id": "5cbb67d5",
   "metadata": {},
   "source": [
    "# Import Data"
   ]
  },
  {
   "cell_type": "code",
   "execution_count": 3,
   "id": "4b69f1cb",
   "metadata": {},
   "outputs": [
    {
     "name": "stderr",
     "output_type": "stream",
     "text": [
      "[*********************100%%**********************]  1 of 1 completed"
     ]
    },
    {
     "name": "stdout",
     "output_type": "stream",
     "text": [
      "                   Open         High          Low        Close    Adj Close  \\\n",
      "Date                                                                          \n",
      "2020-01-01  7194.892090  7254.330566  7174.944336  7200.174316  7200.174316   \n",
      "2020-01-02  7202.551270  7212.155273  6935.270020  6985.470215  6985.470215   \n",
      "2020-01-03  6984.428711  7413.715332  6914.996094  7344.884277  7344.884277   \n",
      "2020-01-04  7345.375488  7427.385742  7309.514160  7410.656738  7410.656738   \n",
      "2020-01-05  7410.451660  7544.497070  7400.535645  7411.317383  7411.317383   \n",
      "\n",
      "                 Volume  \n",
      "Date                     \n",
      "2020-01-01  18565664997  \n",
      "2020-01-02  20802083465  \n",
      "2020-01-03  28111481032  \n",
      "2020-01-04  18444271275  \n",
      "2020-01-05  19725074095  \n"
     ]
    },
    {
     "name": "stderr",
     "output_type": "stream",
     "text": [
      "\n"
     ]
    }
   ],
   "source": [
    "import yfinance as yf\n",
    "import pandas as pd\n",
    "\n",
    "def fetch_data(ticker, start, end):\n",
    "    data = yf.download(ticker, start=start, end=end)\n",
    "    return data\n",
    "\n",
    "data = fetch_data(\"BTC-USD\", start=\"2019-01-01\", end=\"2023-01-01\")\n",
    "print(data.head())"
   ]
  },
  {
   "cell_type": "code",
   "execution_count": 6,
   "id": "7857a428",
   "metadata": {},
   "outputs": [
    {
     "data": {
      "text/plain": [
       "DatetimeIndex(['2020-01-01', '2020-01-02', '2020-01-03', '2020-01-04',\n",
       "               '2020-01-05', '2020-01-06', '2020-01-07', '2020-01-08',\n",
       "               '2020-01-09', '2020-01-10',\n",
       "               ...\n",
       "               '2022-12-22', '2022-12-23', '2022-12-24', '2022-12-25',\n",
       "               '2022-12-26', '2022-12-27', '2022-12-28', '2022-12-29',\n",
       "               '2022-12-30', '2022-12-31'],\n",
       "              dtype='datetime64[ns]', name='Date', length=1096, freq=None)"
      ]
     },
     "execution_count": 6,
     "metadata": {},
     "output_type": "execute_result"
    }
   ],
   "source": []
  }
 ],
 "metadata": {
  "kernelspec": {
   "display_name": "Python 3 (ipykernel)",
   "language": "python",
   "name": "python3"
  },
  "language_info": {
   "codemirror_mode": {
    "name": "ipython",
    "version": 3
   },
   "file_extension": ".py",
   "mimetype": "text/x-python",
   "name": "python",
   "nbconvert_exporter": "python",
   "pygments_lexer": "ipython3",
   "version": "3.10.11"
  }
 },
 "nbformat": 4,
 "nbformat_minor": 5
}
